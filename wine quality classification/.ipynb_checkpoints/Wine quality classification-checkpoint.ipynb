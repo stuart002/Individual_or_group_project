{
 "cells": [
  {
   "cell_type": "markdown",
   "metadata": {},
   "source": [
    "# Wine quality Classification"
   ]
  },
  {
   "cell_type": "markdown",
   "metadata": {},
   "source": [
    "This is a group project\n",
    "\n",
    "Date: 2 Dec 2017"
   ]
  },
  {
   "cell_type": "markdown",
   "metadata": {},
   "source": [
    "### Libraries {-}"
   ]
  },
  {
   "cell_type": "code",
   "execution_count": 1,
   "metadata": {},
   "outputs": [
    {
     "name": "stderr",
     "output_type": "stream",
     "text": [
      "/Users/stuart/anaconda/lib/python3.6/site-packages/sklearn/cross_validation.py:41: DeprecationWarning: This module was deprecated in version 0.18 in favor of the model_selection module into which all the refactored classes and functions are moved. Also note that the interface of the new CV iterators are different from that of this module. This module will be removed in 0.20.\n",
      "  \"This module will be removed in 0.20.\", DeprecationWarning)\n"
     ]
    }
   ],
   "source": [
    "import pandas as pd\n",
    "import numpy as np\n",
    "from sklearn.model_selection import train_test_split\n",
    "from sklearn.neighbors import KNeighborsClassifier\n",
    "from sklearn.utils import shuffle\n",
    "from sklearn.cross_validation import cross_val_score\n",
    "import warnings; warnings.simplefilter('ignore')\n",
    "from sklearn.metrics import accuracy_score\n",
    "from sklearn.metrics import confusion_matrix\n",
    "import matplotlib.pyplot as plt"
   ]
  },
  {
   "cell_type": "markdown",
   "metadata": {},
   "source": [
    "## 1. Loads the data {-}"
   ]
  },
  {
   "cell_type": "code",
   "execution_count": 2,
   "metadata": {
    "collapsed": true
   },
   "outputs": [],
   "source": [
    "data = pd.read_csv('winequality-red.csv',delimiter=\";\")"
   ]
  },
  {
   "cell_type": "markdown",
   "metadata": {},
   "source": [
    "## 2. Construct a new binary column “good wine” that indicates whether the wine is good. {-}"
   ]
  },
  {
   "cell_type": "code",
   "execution_count": 3,
   "metadata": {
    "collapsed": true
   },
   "outputs": [],
   "source": [
    "#Adds new column with good quality: 1 if equal or larger than 6, 0 otherwise\n",
    "data[\"good wine\"] = np.where(data[\"quality\"]>=6, 1, 0)\n",
    "\n",
    "#Changes the type of good wine to categorical\n",
    "data[\"good wine\"] = data[\"good wine\"].astype(\"category\")"
   ]
  },
  {
   "cell_type": "markdown",
   "metadata": {},
   "source": [
    "## 3. Splits the data set into a training data set (~50%) and a test data set (~50%) {-}"
   ]
  },
  {
   "cell_type": "code",
   "execution_count": 4,
   "metadata": {
    "collapsed": true
   },
   "outputs": [],
   "source": [
    "# Selects all x data (everything but quality and good wine)\n",
    "x = data.iloc[:,:-2]\n",
    "\n",
    "#Selects \"good wine\" as y \n",
    "y = data.iloc[:,-1:]\n",
    "\n",
    "#Splits the data, shuffling it first \n",
    "train_x, test_x, train_y, test_y = train_test_split(x, y, \n",
    "                                                    test_size=0.5,random_state=42,\n",
    "                                                    shuffle=True)"
   ]
  },
  {
   "cell_type": "markdown",
   "metadata": {},
   "source": [
    "## 4. Normalises the data according to the Z-score transform {-}"
   ]
  },
  {
   "cell_type": "code",
   "execution_count": 5,
   "metadata": {
    "collapsed": true
   },
   "outputs": [],
   "source": [
    "#empty dataframe\n",
    "train_x_normalised = pd.DataFrame()\n",
    "test_x_normalised = pd.DataFrame()\n",
    "\n",
    "#fills empty dataframe with the normalised data using the train data\n",
    "for col in train_x:\n",
    "    train_x_normalised[col] = (train_x[col]-train_x[col].mean())/train_x[col].std()\n",
    "\n",
    "for col in test_x:\n",
    "    test_x_normalised[col] = (test_x[col]-train_x[col].mean())/train_x[col].std()\n"
   ]
  },
  {
   "cell_type": "markdown",
   "metadata": {},
   "source": [
    "## 5. Loads and trains the k-Nearest Neighbours classifiers for k = 1, 6, 11, 16, ..., 500 {-}\n"
   ]
  },
  {
   "cell_type": "code",
   "execution_count": 6,
   "metadata": {
    "collapsed": true
   },
   "outputs": [],
   "source": [
    "k_values = np.arange(1, 500,5)\n",
    "\n",
    "#appends 500 that would be otherwise missing\n",
    "np.append(k_values,500)\n",
    "\n",
    "#Empty dictionary where accuracy scores will be added\n",
    "accuracy_scores = {}\n",
    "    \n",
    "for k in k_values:\n",
    "    # instantiate learning model\n",
    "    knn = KNeighborsClassifier(n_neighbors=k)\n",
    "    \n",
    "    # fits the model (the real learning part)\n",
    "    knn.fit(train_x_normalised, train_y)\n",
    "    \n",
    "    # predicts the response\n",
    "    pred = knn.predict(test_x_normalised)\n",
    "    \n",
    "    #adds accuracy score \n",
    "    accuracy_scores[k] = accuracy_score(test_y, pred)"
   ]
  },
  {
   "cell_type": "code",
   "execution_count": 7,
   "metadata": {},
   "outputs": [
    {
     "name": "stdout",
     "output_type": "stream",
     "text": [
      "For this specific method, the k with the largest accuracy is 246 with accuracy of 0.7275\n"
     ]
    }
   ],
   "source": [
    "max_key = max(accuracy_scores, key=accuracy_scores.get)\n",
    "\n",
    "print(\"For this specific method, the k with the largest accuracy is \" + \n",
    "      str(max_key) + \" with accuracy of \" + str(accuracy_scores[max_key]))"
   ]
  },
  {
   "cell_type": "markdown",
   "metadata": {},
   "source": [
    "## 6. Evaluates each classifier using 5-fold cross validation and selects the best classifier {-}"
   ]
  },
  {
   "cell_type": "code",
   "execution_count": 9,
   "metadata": {
    "collapsed": true
   },
   "outputs": [],
   "source": [
    "# empty list that will hold cv scores\n",
    "cv_scores = []\n",
    "\n",
    "# perform 5-fold cross validation\n",
    "for k in k_values:\n",
    "    knn = KNeighborsClassifier(n_neighbors=k)\n",
    "    scores = cross_val_score(knn, train_x_normalised.as_matrix(), \n",
    "                             train_y.as_matrix().ravel(), cv=5, scoring='accuracy')\n",
    "    cv_scores.append(scores.mean())"
   ]
  },
  {
   "cell_type": "code",
   "execution_count": 10,
   "metadata": {},
   "outputs": [
    {
     "name": "stdout",
     "output_type": "stream",
     "text": [
      "The optimal number of neighbors is 76\n"
     ]
    },
    {
     "data": {
      "image/png": "[encoded data removed]",
      "text/plain": [
       "<matplotlib.figure.Figure at 0x104d6be80>"
      ]
     },
     "metadata": {},
     "output_type": "display_data"
    }
   ],
   "source": [
    "MSE = [1 - x for x in cv_scores]\n",
    "\n",
    "# determining best k\n",
    "optimal_k = k_values[MSE.index(min(MSE))]\n",
    "print(\"The optimal number of neighbors is %d\" % optimal_k)\n",
    "\n",
    "# plot misclassification error vs k\n",
    "plt.plot(k_values, MSE)\n",
    "plt.xlabel('Number of Neighbors K')\n",
    "plt.ylabel('Misclassification Error')\n",
    "plt.show();"
   ]
  },
  {
   "cell_type": "markdown",
   "metadata": {},
   "source": [
    "## 7. Predicts the generalisation error using the test data set, as well as outputs the result in a confusion matrix. {-}\n",
    "\n",
    "The first part of code shows the confusion matrix as a dataframe, while the second part visualises it as a graph."
   ]
  },
  {
   "cell_type": "code",
   "execution_count": 11,
   "metadata": {},
   "outputs": [
    {
     "name": "stdout",
     "output_type": "stream",
     "text": [
      "     0    1\n",
      "0  245  141\n",
      "1   87  327\n"
     ]
    }
   ],
   "source": [
    "# instantiate learning model\n",
    "knn = KNeighborsClassifier(n_neighbors=76)\n",
    "\n",
    "# fits the model\n",
    "knn.fit(train_x_normalised, train_y)\n",
    "\n",
    "# predicts the response\n",
    "pred = knn.predict(test_x_normalised)\n",
    "\n",
    "#creates confusion matrix\n",
    "conf_matrix = confusion_matrix(test_y, pred)\n",
    "\n",
    "#prints confusion matrix as a dataframe\n",
    "print(pd.DataFrame(conf_matrix))\n"
   ]
  },
  {
   "cell_type": "code",
   "execution_count": 12,
   "metadata": {},
   "outputs": [
    {
     "data": {
      "image/png": "[encoded data removed]",
      "text/plain": [
       "<matplotlib.figure.Figure at 0x104d9c0b8>"
      ]
     },
     "metadata": {},
     "output_type": "display_data"
    }
   ],
   "source": [
    "def plot_confusion_matrix(cm, target_names, \n",
    "                          title='Confusion matrix', cmap=plt.cm.Oranges):\n",
    "    plt.imshow(cm, interpolation='nearest', cmap=cmap)\n",
    "    plt.title(title)\n",
    "    tick_marks = np.arange(len(target_names))\n",
    "    plt.xticks(tick_marks, target_names, rotation=45)\n",
    "    plt.yticks(tick_marks, target_names)\n",
    "    plt.tight_layout()\n",
    "\n",
    "    width, height = cm.shape\n",
    "\n",
    "    for x in range(width):\n",
    "        for y in range(height):\n",
    "            plt.annotate(str(cm[x][y]), xy=(y, x), \n",
    "                        horizontalalignment='center',\n",
    "                        verticalalignment='center')\n",
    "    plt.ylabel('True label')\n",
    "    plt.xlabel('Predicted label')\n",
    "\n",
    "plot_confusion_matrix(conf_matrix, ['0', '1'])\n",
    "plt.show()"
   ]
  }
 ],
 "metadata": {
  "kernelspec": {
   "display_name": "Python 3",
   "language": "python",
   "name": "python3"
  },
  "language_info": {
   "codemirror_mode": {
    "name": "ipython",
    "version": 3
   },
   "file_extension": ".py",
   "mimetype": "text/x-python",
   "name": "python",
   "nbconvert_exporter": "python",
   "pygments_lexer": "ipython3",
   "version": "3.6.3"
  }
 },
 "nbformat": 4,
 "nbformat_minor": 2
}
