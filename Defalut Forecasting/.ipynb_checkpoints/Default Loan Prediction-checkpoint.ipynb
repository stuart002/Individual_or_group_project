{
 "cells": [
  {
   "cell_type": "markdown",
   "metadata": {},
   "source": [
    "# Default Loan Prediction"
   ]
  },
  {
   "cell_type": "markdown",
   "metadata": {},
   "source": [
    "This is a group project."
   ]
  },
  {
   "cell_type": "code",
   "execution_count": 12,
   "metadata": {},
   "outputs": [],
   "source": [
    "import pandas as pd\n",
    "import numpy as np\n",
    "from sklearn.model_selection import train_test_split\n",
    "from sklearn.discriminant_analysis import QuadraticDiscriminantAnalysis\n",
    "from sklearn import cross_validation\n",
    "from sklearn import tree\n",
    "from sklearn.neighbors import KNeighborsClassifier\n",
    "import matplotlib.pyplot as plt\n",
    "from sklearn.metrics import confusion_matrix\n",
    "from collections import Counter\n",
    "from sklearn.model_selection import KFold\n",
    "from imblearn.over_sampling import SMOTE \n",
    "from sklearn import linear_model\n",
    "from sklearn.preprocessing import StandardScaler"
   ]
  },
  {
   "cell_type": "markdown",
   "metadata": {},
   "source": [
    "# Loans data\n",
    "## Loading and transforming categorical values"
   ]
  },
  {
   "cell_type": "code",
   "execution_count": 3,
   "metadata": {
    "scrolled": true
   },
   "outputs": [],
   "source": [
    "loans= pd.read_csv(\"loans.csv\")\n",
    "#check any null\n",
    "#loans[loans.isnull().any(axis=1)]\n",
    "#check the data type\n",
    "#loans.dtypes"
   ]
  },
  {
   "cell_type": "code",
   "execution_count": 4,
   "metadata": {
    "collapsed": true
   },
   "outputs": [],
   "source": [
    "cat_col=loans.select_dtypes(include=[\"object\"]).columns\n",
    "#for i in cat_col:\n",
    "#    print(sorted(set(loans[str(i)])))\n",
    "for i in cat_col:\n",
    "    loans[str(i)]=loans[str(i)].astype('category').cat.codes"
   ]
  },
  {
   "cell_type": "code",
   "execution_count": 5,
   "metadata": {
    "collapsed": true
   },
   "outputs": [],
   "source": [
    "cat_col_dd = cat_col[2:]"
   ]
  },
  {
   "cell_type": "markdown",
   "metadata": {},
   "source": [
    "## One Hot enconder\n",
    "Creates new variables for categorical variables that are not ordinal and have multiple levels. "
   ]
  },
  {
   "cell_type": "code",
   "execution_count": 7,
   "metadata": {
    "collapsed": true
   },
   "outputs": [],
   "source": [
    "loans = pd.get_dummies(loans, columns=cat_col_dd)"
   ]
  },
  {
   "cell_type": "markdown",
   "metadata": {},
   "source": [
    "To avoid perfect colinearity it is important to remove one of the dummies for each feature"
   ]
  },
  {
   "cell_type": "code",
   "execution_count": 8,
   "metadata": {},
   "outputs": [
    {
     "data": {
      "text/html": [
       "<div>\n",
       "<style scoped>\n",
       "    .dataframe tbody tr th:only-of-type {\n",
       "        vertical-align: middle;\n",
       "    }\n",
       "\n",
       "    .dataframe tbody tr th {\n",
       "        vertical-align: top;\n",
       "    }\n",
       "\n",
       "    .dataframe thead th {\n",
       "        text-align: right;\n",
       "    }\n",
       "</style>\n",
       "<table border=\"1\" class=\"dataframe\">\n",
       "  <thead>\n",
       "    <tr style=\"text-align: right;\">\n",
       "      <th></th>\n",
       "      <th>loan_status</th>\n",
       "      <th>term</th>\n",
       "      <th>installment</th>\n",
       "      <th>grade</th>\n",
       "      <th>annual_inc</th>\n",
       "      <th>delinq_2yrs</th>\n",
       "      <th>earliest_cr_line</th>\n",
       "      <th>inq_last_6mths</th>\n",
       "      <th>pub_rec</th>\n",
       "      <th>revol_bal</th>\n",
       "      <th>...</th>\n",
       "      <th>purpose_4</th>\n",
       "      <th>purpose_5</th>\n",
       "      <th>purpose_6</th>\n",
       "      <th>purpose_7</th>\n",
       "      <th>purpose_8</th>\n",
       "      <th>purpose_9</th>\n",
       "      <th>purpose_10</th>\n",
       "      <th>purpose_11</th>\n",
       "      <th>initial_list_status_1</th>\n",
       "      <th>application_type_1</th>\n",
       "    </tr>\n",
       "  </thead>\n",
       "  <tbody>\n",
       "    <tr>\n",
       "      <th>0</th>\n",
       "      <td>0</td>\n",
       "      <td>36</td>\n",
       "      <td>322.35</td>\n",
       "      <td>1</td>\n",
       "      <td>105000.0</td>\n",
       "      <td>1</td>\n",
       "      <td>2010</td>\n",
       "      <td>0</td>\n",
       "      <td>0</td>\n",
       "      <td>4055</td>\n",
       "      <td>...</td>\n",
       "      <td>0</td>\n",
       "      <td>0</td>\n",
       "      <td>0</td>\n",
       "      <td>1</td>\n",
       "      <td>0</td>\n",
       "      <td>0</td>\n",
       "      <td>0</td>\n",
       "      <td>0</td>\n",
       "      <td>0</td>\n",
       "      <td>0</td>\n",
       "    </tr>\n",
       "    <tr>\n",
       "      <th>1</th>\n",
       "      <td>0</td>\n",
       "      <td>36</td>\n",
       "      <td>1241.50</td>\n",
       "      <td>0</td>\n",
       "      <td>150000.0</td>\n",
       "      <td>0</td>\n",
       "      <td>1998</td>\n",
       "      <td>0</td>\n",
       "      <td>0</td>\n",
       "      <td>38863</td>\n",
       "      <td>...</td>\n",
       "      <td>0</td>\n",
       "      <td>0</td>\n",
       "      <td>0</td>\n",
       "      <td>0</td>\n",
       "      <td>0</td>\n",
       "      <td>0</td>\n",
       "      <td>0</td>\n",
       "      <td>0</td>\n",
       "      <td>1</td>\n",
       "      <td>0</td>\n",
       "    </tr>\n",
       "    <tr>\n",
       "      <th>2</th>\n",
       "      <td>0</td>\n",
       "      <td>36</td>\n",
       "      <td>321.64</td>\n",
       "      <td>2</td>\n",
       "      <td>90000.0</td>\n",
       "      <td>0</td>\n",
       "      <td>1997</td>\n",
       "      <td>3</td>\n",
       "      <td>0</td>\n",
       "      <td>51954</td>\n",
       "      <td>...</td>\n",
       "      <td>0</td>\n",
       "      <td>0</td>\n",
       "      <td>0</td>\n",
       "      <td>0</td>\n",
       "      <td>0</td>\n",
       "      <td>0</td>\n",
       "      <td>0</td>\n",
       "      <td>0</td>\n",
       "      <td>0</td>\n",
       "      <td>0</td>\n",
       "    </tr>\n",
       "    <tr>\n",
       "      <th>3</th>\n",
       "      <td>0</td>\n",
       "      <td>36</td>\n",
       "      <td>324.65</td>\n",
       "      <td>1</td>\n",
       "      <td>50000.0</td>\n",
       "      <td>0</td>\n",
       "      <td>2004</td>\n",
       "      <td>1</td>\n",
       "      <td>0</td>\n",
       "      <td>7507</td>\n",
       "      <td>...</td>\n",
       "      <td>0</td>\n",
       "      <td>0</td>\n",
       "      <td>0</td>\n",
       "      <td>0</td>\n",
       "      <td>0</td>\n",
       "      <td>0</td>\n",
       "      <td>0</td>\n",
       "      <td>0</td>\n",
       "      <td>1</td>\n",
       "      <td>0</td>\n",
       "    </tr>\n",
       "    <tr>\n",
       "      <th>4</th>\n",
       "      <td>0</td>\n",
       "      <td>36</td>\n",
       "      <td>171.09</td>\n",
       "      <td>2</td>\n",
       "      <td>87000.0</td>\n",
       "      <td>0</td>\n",
       "      <td>1999</td>\n",
       "      <td>1</td>\n",
       "      <td>0</td>\n",
       "      <td>21007</td>\n",
       "      <td>...</td>\n",
       "      <td>0</td>\n",
       "      <td>0</td>\n",
       "      <td>0</td>\n",
       "      <td>0</td>\n",
       "      <td>1</td>\n",
       "      <td>0</td>\n",
       "      <td>0</td>\n",
       "      <td>0</td>\n",
       "      <td>1</td>\n",
       "      <td>0</td>\n",
       "    </tr>\n",
       "  </tbody>\n",
       "</table>\n",
       "<p>5 rows × 53 columns</p>\n",
       "</div>"
      ],
      "text/plain": [
       "   loan_status  term  installment  grade  annual_inc  delinq_2yrs  \\\n",
       "0            0    36       322.35      1    105000.0            1   \n",
       "1            0    36      1241.50      0    150000.0            0   \n",
       "2            0    36       321.64      2     90000.0            0   \n",
       "3            0    36       324.65      1     50000.0            0   \n",
       "4            0    36       171.09      2     87000.0            0   \n",
       "\n",
       "   earliest_cr_line  inq_last_6mths  pub_rec  revol_bal         ...          \\\n",
       "0              2010               0        0       4055         ...           \n",
       "1              1998               0        0      38863         ...           \n",
       "2              1997               3        0      51954         ...           \n",
       "3              2004               1        0       7507         ...           \n",
       "4              1999               1        0      21007         ...           \n",
       "\n",
       "   purpose_4  purpose_5  purpose_6  purpose_7  purpose_8  purpose_9  \\\n",
       "0          0          0          0          1          0          0   \n",
       "1          0          0          0          0          0          0   \n",
       "2          0          0          0          0          0          0   \n",
       "3          0          0          0          0          0          0   \n",
       "4          0          0          0          0          1          0   \n",
       "\n",
       "   purpose_10  purpose_11  initial_list_status_1  application_type_1  \n",
       "0           0           0                      0                   0  \n",
       "1           0           0                      1                   0  \n",
       "2           0           0                      0                   0  \n",
       "3           0           0                      1                   0  \n",
       "4           0           0                      1                   0  \n",
       "\n",
       "[5 rows x 53 columns]"
      ]
     },
     "execution_count": 8,
     "metadata": {},
     "output_type": "execute_result"
    }
   ],
   "source": [
    "loans = loans.drop(['home_ownership_0', 'verification_status_0', 'issue_d_0', 'purpose_0', 'initial_list_status_0', 'application_type_0'], axis = 1)\n",
    "loans.head()"
   ]
  },
  {
   "cell_type": "code",
   "execution_count": 52,
   "metadata": {},
   "outputs": [
    {
     "name": "stdout",
     "output_type": "stream",
     "text": [
      "<class 'pandas.core.frame.DataFrame'>\n",
      "RangeIndex: 11750 entries, 0 to 11749\n",
      "Data columns (total 53 columns):\n",
      "loan_status              11750 non-null int8\n",
      "term                     11750 non-null int64\n",
      "installment              11750 non-null float64\n",
      "grade                    11750 non-null int8\n",
      "annual_inc               11750 non-null float64\n",
      "delinq_2yrs              11750 non-null int64\n",
      "earliest_cr_line         11750 non-null int64\n",
      "inq_last_6mths           11750 non-null int64\n",
      "pub_rec                  11750 non-null int64\n",
      "revol_bal                11750 non-null int64\n",
      "total_acc                11750 non-null int64\n",
      "total_rec_prncp          11750 non-null float64\n",
      "total_rec_int            11750 non-null float64\n",
      "tot_cur_bal              11750 non-null int64\n",
      "open_acc_6m              11750 non-null int64\n",
      "open_act_il              11750 non-null int64\n",
      "open_il_12m              11750 non-null int64\n",
      "open_il_24m              11750 non-null int64\n",
      "total_bal_il             11750 non-null int64\n",
      "open_rv_12m              11750 non-null int64\n",
      "open_rv_24m              11750 non-null int64\n",
      "max_bal_bc               11750 non-null int64\n",
      "inq_fi                   11750 non-null int64\n",
      "total_cu_tl              11750 non-null int64\n",
      "inq_last_12m             11750 non-null int64\n",
      "mo_sin_rcnt_rev_tl_op    11750 non-null int64\n",
      "mo_sin_rcnt_tl           11750 non-null int64\n",
      "mort_acc                 11750 non-null int64\n",
      "num_accts_ever_120_pd    11750 non-null int64\n",
      "num_actv_bc_tl           11750 non-null int64\n",
      "num_bc_tl                11750 non-null int64\n",
      "num_il_tl                11750 non-null int64\n",
      "pub_rec_bankruptcies     11750 non-null int64\n",
      "total_bc_limit           11750 non-null int64\n",
      "home_ownership_1         11750 non-null uint8\n",
      "home_ownership_2         11750 non-null uint8\n",
      "verification_status_1    11750 non-null uint8\n",
      "verification_status_2    11750 non-null uint8\n",
      "issue_d_1                11750 non-null uint8\n",
      "issue_d_2                11750 non-null uint8\n",
      "purpose_1                11750 non-null uint8\n",
      "purpose_2                11750 non-null uint8\n",
      "purpose_3                11750 non-null uint8\n",
      "purpose_4                11750 non-null uint8\n",
      "purpose_5                11750 non-null uint8\n",
      "purpose_6                11750 non-null uint8\n",
      "purpose_7                11750 non-null uint8\n",
      "purpose_8                11750 non-null uint8\n",
      "purpose_9                11750 non-null uint8\n",
      "purpose_10               11750 non-null uint8\n",
      "purpose_11               11750 non-null uint8\n",
      "initial_list_status_1    11750 non-null uint8\n",
      "application_type_1       11750 non-null uint8\n",
      "dtypes: float64(4), int64(28), int8(2), uint8(19)\n",
      "memory usage: 3.1 MB\n"
     ]
    }
   ],
   "source": [
    "loans.info()"
   ]
  },
  {
   "cell_type": "markdown",
   "metadata": {},
   "source": [
    "## Split 80% training set and 20% test set"
   ]
  },
  {
   "cell_type": "code",
   "execution_count": 9,
   "metadata": {
    "collapsed": true
   },
   "outputs": [],
   "source": [
    "#split the data into training and test set\n",
    "train_loans,test_loans=train_test_split(loans,test_size=0.2,random_state=42, shuffle=True)"
   ]
  },
  {
   "cell_type": "markdown",
   "metadata": {},
   "source": [
    "## Distribution of the variables\n",
    "\n",
    "From the below histograms of all varibles, we notice that all of them are not roughly uniform, and they have several outliers. Therefore, we would like to use Z-score normalisation before applying some of the machine learining techniques."
   ]
  },
  {
   "cell_type": "code",
   "execution_count": 10,
   "metadata": {
    "scrolled": false
   },
   "outputs": [
    {
     "name": "stderr",
     "output_type": "stream",
     "text": [
      "/Users/stuart/anaconda/lib/python3.6/site-packages/IPython/core/interactiveshell.py:2881: UserWarning: To output multiple subplots, the figure containing the passed axes is being cleared\n",
      "  exec(code_obj, self.user_global_ns, self.user_ns)\n"
     ]
    },
    {
     "data": {
      "image/png": "[encoded data removed]",
      "text/plain": [
       "<matplotlib.figure.Figure at 0x107c55d30>"
      ]
     },
     "metadata": {},
     "output_type": "display_data"
    }
   ],
   "source": [
    "fig = plt.figure(figsize = (15,20))\n",
    "ax = fig.gca()\n",
    "loans.hist(ax = ax)\n",
    "plt.show()"
   ]
  },
  {
   "cell_type": "markdown",
   "metadata": {},
   "source": [
    "## Normalisation\n",
    "\n",
    "After scaling the final data sets are defined as:\n",
    "\n",
    "* **x** - non scaled x training data set\n",
    "* **x_scale** - normalised x training data set\n",
    "* **y** - loan status for training set\n",
    "\n",
    "* **test_x** - non scaled x test data set\n",
    "* **test_x_scale** - normalised x test data set\n",
    "* **test_y** - loan status for test set"
   ]
  },
  {
   "cell_type": "code",
   "execution_count": 13,
   "metadata": {
    "collapsed": true,
    "scrolled": true
   },
   "outputs": [],
   "source": [
    "scaler = StandardScaler().fit(train_loans.iloc[:,1:])\n",
    "train_loans_scale = scaler.transform(train_loans.iloc[:,1:])\n",
    "test_loans_scale = scaler.transform(test_loans.iloc[:,1:])"
   ]
  },
  {
   "cell_type": "code",
   "execution_count": 14,
   "metadata": {
    "collapsed": true
   },
   "outputs": [],
   "source": [
    "#Training set\n",
    "x=train_loans.iloc[:,1:].reset_index(drop=True)\n",
    "x_scale=pd.DataFrame(train_loans_scale, columns = x.columns).reset_index(drop=True) #converting it back to a data frame\n",
    "y = train_loans.iloc[:,0]\n",
    "\n",
    "#Test set\n",
    "test_x=pd.DataFrame(test_loans.iloc[:,1:]).reset_index(drop=True)\n",
    "test_x_scale=pd.DataFrame(test_loans_scale, columns = x.columns).reset_index(drop=True) #converting it back to a data frame\n",
    "test_y=test_loans.iloc[:,0]"
   ]
  },
  {
   "cell_type": "markdown",
   "metadata": {},
   "source": [
    "## QDA"
   ]
  },
  {
   "cell_type": "code",
   "execution_count": 15,
   "metadata": {},
   "outputs": [
    {
     "name": "stdout",
     "output_type": "stream",
     "text": [
      "0.806164083457\n",
      "      0    1\n",
      "0  7231  756\n",
      "1  1066  347\n",
      "fail_sensitivity 0.2456\n"
     ]
    }
   ],
   "source": [
    "m1 = QuadraticDiscriminantAnalysis()\n",
    "m1.fit(x_scale, y)\n",
    "m1_scores = cross_validation.cross_val_score(m1, x_scale,y,cv=10)\n",
    "m1_pred = cross_validation.cross_val_predict(m1,x_scale,y,cv=10)\n",
    "m1_conf=pd.DataFrame(confusion_matrix(y,m1_pred))\n",
    "print(m1_scores.mean())\n",
    "print(m1_conf)\n",
    "print(\"fail_sensitivity\",round(m1_conf.iloc[1,1]/(m1_conf.iloc[1,0]+m1_conf.iloc[1,1]),4))"
   ]
  },
  {
   "cell_type": "markdown",
   "metadata": {},
   "source": [
    "## Tree"
   ]
  },
  {
   "cell_type": "code",
   "execution_count": 16,
   "metadata": {},
   "outputs": [
    {
     "name": "stdout",
     "output_type": "stream",
     "text": [
      "accuracy score 0.867234968288\n",
      "      0    1\n",
      "0  7354  633\n",
      "1   618  795\n",
      "fail_precision 0.5626\n"
     ]
    }
   ],
   "source": [
    "m2 = tree.DecisionTreeClassifier()\n",
    "m2.fit(x_scale,y)\n",
    "m2_scores = cross_validation.cross_val_score(m2, x_scale,y,cv=10)\n",
    "print(\"accuracy score\", m2_scores.mean())\n",
    "m2_pred = cross_validation.cross_val_predict(m2,x_scale,y,cv=10)\n",
    "m2_conf=pd.DataFrame(confusion_matrix(y,m2_pred))\n",
    "print(m2_conf)\n",
    "print(\"fail_precision\",round(m2_conf.iloc[1,1]/(m2_conf.iloc[1,0]+m2_conf.iloc[1,1]),4))"
   ]
  },
  {
   "cell_type": "markdown",
   "metadata": {},
   "source": [
    "## 5NN"
   ]
  },
  {
   "cell_type": "code",
   "execution_count": 17,
   "metadata": {},
   "outputs": [
    {
     "name": "stdout",
     "output_type": "stream",
     "text": [
      "0.843085452164\n",
      "      0    1\n",
      "0  7845  142\n",
      "1  1333   80\n",
      "fail_precision 0.0566\n"
     ]
    }
   ],
   "source": [
    "m3= KNeighborsClassifier(5)\n",
    "m3.fit(x_scale,y)\n",
    "m3_scores = cross_validation.cross_val_score(m3, x_scale,y,cv=10)\n",
    "print(m3_scores.mean())\n",
    "m3_pred = cross_validation.cross_val_predict(m3,x_scale,y,cv=10)\n",
    "m3_conf=pd.DataFrame(confusion_matrix(y,m3_pred))\n",
    "print(m3_conf)\n",
    "print(\"fail_precision\",round(m3_conf.iloc[1,1]/(m3_conf.iloc[1,0]+m3_conf.iloc[1,1]),4))"
   ]
  },
  {
   "cell_type": "markdown",
   "metadata": {},
   "source": [
    "# Reduced vs full (intuitive)\n",
    "\n",
    "We choose the attributes: \n",
    "\n",
    "1) annual_inc: we expect people with high income levels to be less likely to default. Especially when considered against total current balance of all accounts and installment. \n",
    "\n",
    "2) revol_bal: the size of the revolving credit extended to people is an indicator of the trust the creditor has in the debtor to not default \n",
    "\n",
    "3) grade: loan grade is an indicator of the price against which a debtor borrows, which is directly based on the risk-level of default \n",
    "\n",
    "4) home_ownership: status of home ownership is an indicator of both the ability of a person to raise funds to acquire a home, as of the total capital-strength of a debtor \n",
    "\n",
    "5) installment: the higher the installment, the sooner someone defaults if they run into financial problems\n",
    "\n",
    "6) num_accts_ever_120_pd: indicator of a person's historical ability to repay debts, as well as a potential indicator that the person is currently running into financial trouble \n",
    "\n",
    "7) open_il_24m: when people open new installments rapidly after another this can be an indication that a person is financing its debt with other debt, revealing a potential heading for default \n",
    "\n",
    "8) purpose: different purposes of lending come with different levels of riskiness\n",
    "\n",
    "9) tot_cur_bal: total size of the debt relative to annual income reveals how hard it is for someone to repay all debts \n",
    "\n",
    "10) verification_status: verified income level increases trust in level of income to repay debt"
   ]
  },
  {
   "cell_type": "code",
   "execution_count": 18,
   "metadata": {
    "collapsed": true
   },
   "outputs": [],
   "source": [
    "intu_red_var = ['annual_inc', 'revol_bal', 'grade', 'home_ownership_1','home_ownership_1', 'installment',\n",
    "                'num_accts_ever_120_pd', 'open_il_12m','tot_cur_bal','verification_status_1','verification_status_2',\n",
    "                'purpose_1', 'purpose_2', 'purpose_3', 'purpose_4', 'purpose_5', 'purpose_6',\n",
    "                'purpose_7', 'purpose_8', 'purpose_9', 'purpose_10','purpose_11']\n",
    "\n",
    "x_scaled_intu = x_scale[intu_red_var]\n",
    "x_test_intu = test_x_scale[intu_red_var]\n",
    "\n",
    "########################\n",
    "\n",
    "#To see results on the ridge-reduced variables for all models, unhash the below code\n",
    "\n",
    "#x_scaled_intu = x_scale[top_ind]\n",
    "#x_test_intu = test_x_scale[top_ind]\n"
   ]
  },
  {
   "cell_type": "markdown",
   "metadata": {},
   "source": [
    "## Logistic Regression"
   ]
  },
  {
   "cell_type": "code",
   "execution_count": 19,
   "metadata": {},
   "outputs": [
    {
     "name": "stdout",
     "output_type": "stream",
     "text": [
      "0.8487\n",
      "fail_sensitivity 0.0127\n"
     ]
    }
   ],
   "source": [
    "m1_linreg = linear_model.LogisticRegression()\n",
    "m1_linreg.fit(x_scaled_intu, y)\n",
    "\n",
    "m1_scores = cross_validation.cross_val_score(m1_linreg, x_scaled_intu,y,cv=10)\n",
    "print(round(m1_scores.mean(),4))\n",
    "\n",
    "\n",
    "m1_linreg_pred = cross_validation.cross_val_predict(m1_linreg,x_scaled_intu,y,cv=10)\n",
    "m1_linreg_conf=pd.DataFrame(confusion_matrix(y,m1_linreg_pred))\n",
    "print(\"fail_sensitivity\",round(m1_linreg_conf.iloc[1,1]/(m1_linreg_conf.iloc[1,0]+m1_linreg_conf.iloc[1,1]),4))"
   ]
  },
  {
   "cell_type": "markdown",
   "metadata": {},
   "source": [
    "## Tree"
   ]
  },
  {
   "cell_type": "code",
   "execution_count": 20,
   "metadata": {},
   "outputs": [
    {
     "name": "stdout",
     "output_type": "stream",
     "text": [
      "0.7482\n",
      "fail_sensitivity 0.2067\n"
     ]
    }
   ],
   "source": [
    "m2_redTree = tree.DecisionTreeClassifier()\n",
    "m2_redTree.fit(x_scaled_intu,y)\n",
    "\n",
    "m2_scores = cross_validation.cross_val_score(m2_redTree, x_scaled_intu,y,cv=10)\n",
    "print(round(m2_scores.mean(),4))\n",
    "\n",
    "m2_redTree_pred = cross_validation.cross_val_predict(m2_redTree,x_scaled_intu,y,cv=10)\n",
    "m2_redTree_conf=pd.DataFrame(confusion_matrix(y,m2_redTree_pred))\n",
    "print(\"fail_sensitivity\",round(m2_redTree_conf.iloc[1,1]/(m2_redTree_conf.iloc[1,0]+m2_redTree_conf.iloc[1,1]),4))"
   ]
  },
  {
   "cell_type": "markdown",
   "metadata": {},
   "source": [
    "# 5- KNN"
   ]
  },
  {
   "cell_type": "code",
   "execution_count": 21,
   "metadata": {},
   "outputs": [
    {
     "name": "stdout",
     "output_type": "stream",
     "text": [
      "0.8339\n",
      "fail_sensitivity 0.0517\n"
     ]
    }
   ],
   "source": [
    "m5_redKNN = KNeighborsClassifier(5)\n",
    "m5_redKNN.fit(x_scaled_intu,y)\n",
    "m5_scores = cross_validation.cross_val_score(m5_redKNN, x_scaled_intu,y,cv=10)\n",
    "print(round(m5_scores.mean(),4))\n",
    "\n",
    "m5_redKNN_pred = cross_validation.cross_val_predict(m5_redKNN,x_scaled_intu,y,cv=10)\n",
    "m5_redKNN_conf=pd.DataFrame(confusion_matrix(y,m5_redKNN_pred))\n",
    "print(\"fail_sensitivity\",round(m5_redKNN_conf.iloc[1,1]/(m5_redKNN_conf.iloc[1,0]+m5_redKNN_conf.iloc[1,1]),4))"
   ]
  },
  {
   "cell_type": "markdown",
   "metadata": {},
   "source": [
    "# Ridge regression"
   ]
  },
  {
   "cell_type": "code",
   "execution_count": 22,
   "metadata": {},
   "outputs": [
    {
     "data": {
      "text/plain": [
       "LogisticRegressionCV(Cs=100, class_weight=None, cv=10, dual=False,\n",
       "           fit_intercept=True, intercept_scaling=1.0, max_iter=100,\n",
       "           multi_class='ovr', n_jobs=1, penalty='l2', random_state=None,\n",
       "           refit=True, scoring=None, solver='newton-cg', tol=0.0001,\n",
       "           verbose=0)"
      ]
     },
     "execution_count": 22,
     "metadata": {},
     "output_type": "execute_result"
    }
   ],
   "source": [
    "ridgecv = linear_model.LogisticRegressionCV(Cs = 100, penalty='l2', cv =10, solver='newton-cg')\n",
    "ridgecv.fit(x_scale, y)"
   ]
  },
  {
   "cell_type": "code",
   "execution_count": 23,
   "metadata": {},
   "outputs": [
    {
     "data": {
      "text/plain": [
       "0.14174741629268062"
      ]
     },
     "execution_count": 23,
     "metadata": {},
     "output_type": "execute_result"
    }
   ],
   "source": [
    "c = ridgecv.C_\n",
    "c[0]"
   ]
  },
  {
   "cell_type": "code",
   "execution_count": 24,
   "metadata": {},
   "outputs": [
    {
     "data": {
      "text/plain": [
       "0.87106382978723407"
      ]
     },
     "execution_count": 24,
     "metadata": {},
     "output_type": "execute_result"
    }
   ],
   "source": [
    "ridgecv.score(x_scale, y)"
   ]
  },
  {
   "cell_type": "markdown",
   "metadata": {},
   "source": [
    "## Ridge reduced model"
   ]
  },
  {
   "cell_type": "code",
   "execution_count": 25,
   "metadata": {},
   "outputs": [
    {
     "data": {
      "text/plain": [
       "LogisticRegression(C=0.14174741629268062, class_weight=None, dual=False,\n",
       "          fit_intercept=True, intercept_scaling=1, max_iter=100,\n",
       "          multi_class='ovr', n_jobs=1, penalty='l2', random_state=None,\n",
       "          solver='newton-cg', tol=0.0001, verbose=0, warm_start=False)"
      ]
     },
     "execution_count": 25,
     "metadata": {},
     "output_type": "execute_result"
    }
   ],
   "source": [
    "ridge = linear_model.LogisticRegression(penalty='l2', C=c[0], solver='newton-cg')\n",
    "ridge.fit(x_scale, y)"
   ]
  },
  {
   "cell_type": "code",
   "execution_count": 26,
   "metadata": {},
   "outputs": [
    {
     "data": {
      "text/html": [
       "<div>\n",
       "<style scoped>\n",
       "    .dataframe tbody tr th:only-of-type {\n",
       "        vertical-align: middle;\n",
       "    }\n",
       "\n",
       "    .dataframe tbody tr th {\n",
       "        vertical-align: top;\n",
       "    }\n",
       "\n",
       "    .dataframe thead th {\n",
       "        text-align: right;\n",
       "    }\n",
       "</style>\n",
       "<table border=\"1\" class=\"dataframe\">\n",
       "  <thead>\n",
       "    <tr style=\"text-align: right;\">\n",
       "      <th></th>\n",
       "      <th>Beta_i</th>\n",
       "    </tr>\n",
       "  </thead>\n",
       "  <tbody>\n",
       "    <tr>\n",
       "      <th>total_rec_int</th>\n",
       "      <td>1.777085</td>\n",
       "    </tr>\n",
       "    <tr>\n",
       "      <th>installment</th>\n",
       "      <td>1.149222</td>\n",
       "    </tr>\n",
       "    <tr>\n",
       "      <th>issue_d_2</th>\n",
       "      <td>0.813457</td>\n",
       "    </tr>\n",
       "    <tr>\n",
       "      <th>grade</th>\n",
       "      <td>0.774591</td>\n",
       "    </tr>\n",
       "    <tr>\n",
       "      <th>total_rec_prncp</th>\n",
       "      <td>0.756365</td>\n",
       "    </tr>\n",
       "    <tr>\n",
       "      <th>issue_d_1</th>\n",
       "      <td>0.709822</td>\n",
       "    </tr>\n",
       "    <tr>\n",
       "      <th>term</th>\n",
       "      <td>0.176507</td>\n",
       "    </tr>\n",
       "    <tr>\n",
       "      <th>purpose_2</th>\n",
       "      <td>0.149325</td>\n",
       "    </tr>\n",
       "    <tr>\n",
       "      <th>purpose_1</th>\n",
       "      <td>0.148511</td>\n",
       "    </tr>\n",
       "    <tr>\n",
       "      <th>total_bc_limit</th>\n",
       "      <td>0.126516</td>\n",
       "    </tr>\n",
       "    <tr>\n",
       "      <th>open_il_24m</th>\n",
       "      <td>0.109350</td>\n",
       "    </tr>\n",
       "    <tr>\n",
       "      <th>purpose_3</th>\n",
       "      <td>0.106394</td>\n",
       "    </tr>\n",
       "    <tr>\n",
       "      <th>application_type_1</th>\n",
       "      <td>0.105478</td>\n",
       "    </tr>\n",
       "    <tr>\n",
       "      <th>open_rv_12m</th>\n",
       "      <td>0.100057</td>\n",
       "    </tr>\n",
       "    <tr>\n",
       "      <th>pub_rec_bankruptcies</th>\n",
       "      <td>0.098704</td>\n",
       "    </tr>\n",
       "    <tr>\n",
       "      <th>inq_last_6mths</th>\n",
       "      <td>0.097928</td>\n",
       "    </tr>\n",
       "    <tr>\n",
       "      <th>total_acc</th>\n",
       "      <td>0.097680</td>\n",
       "    </tr>\n",
       "    <tr>\n",
       "      <th>verification_status_2</th>\n",
       "      <td>0.086988</td>\n",
       "    </tr>\n",
       "    <tr>\n",
       "      <th>tot_cur_bal</th>\n",
       "      <td>0.083478</td>\n",
       "    </tr>\n",
       "    <tr>\n",
       "      <th>delinq_2yrs</th>\n",
       "      <td>0.082213</td>\n",
       "    </tr>\n",
       "    <tr>\n",
       "      <th>verification_status_1</th>\n",
       "      <td>0.074658</td>\n",
       "    </tr>\n",
       "    <tr>\n",
       "      <th>total_cu_tl</th>\n",
       "      <td>0.073270</td>\n",
       "    </tr>\n",
       "    <tr>\n",
       "      <th>inq_fi</th>\n",
       "      <td>0.054330</td>\n",
       "    </tr>\n",
       "    <tr>\n",
       "      <th>open_rv_24m</th>\n",
       "      <td>0.047288</td>\n",
       "    </tr>\n",
       "    <tr>\n",
       "      <th>home_ownership_2</th>\n",
       "      <td>0.046669</td>\n",
       "    </tr>\n",
       "    <tr>\n",
       "      <th>purpose_7</th>\n",
       "      <td>0.044565</td>\n",
       "    </tr>\n",
       "    <tr>\n",
       "      <th>inq_last_12m</th>\n",
       "      <td>0.044101</td>\n",
       "    </tr>\n",
       "    <tr>\n",
       "      <th>total_bal_il</th>\n",
       "      <td>0.042120</td>\n",
       "    </tr>\n",
       "    <tr>\n",
       "      <th>open_il_12m</th>\n",
       "      <td>0.041928</td>\n",
       "    </tr>\n",
       "    <tr>\n",
       "      <th>purpose_9</th>\n",
       "      <td>0.040637</td>\n",
       "    </tr>\n",
       "    <tr>\n",
       "      <th>num_accts_ever_120_pd</th>\n",
       "      <td>0.036518</td>\n",
       "    </tr>\n",
       "    <tr>\n",
       "      <th>open_act_il</th>\n",
       "      <td>0.031587</td>\n",
       "    </tr>\n",
       "    <tr>\n",
       "      <th>revol_bal</th>\n",
       "      <td>0.031275</td>\n",
       "    </tr>\n",
       "    <tr>\n",
       "      <th>earliest_cr_line</th>\n",
       "      <td>0.024469</td>\n",
       "    </tr>\n",
       "    <tr>\n",
       "      <th>mo_sin_rcnt_tl</th>\n",
       "      <td>0.022123</td>\n",
       "    </tr>\n",
       "    <tr>\n",
       "      <th>mo_sin_rcnt_rev_tl_op</th>\n",
       "      <td>0.021769</td>\n",
       "    </tr>\n",
       "    <tr>\n",
       "      <th>initial_list_status_1</th>\n",
       "      <td>0.019493</td>\n",
       "    </tr>\n",
       "    <tr>\n",
       "      <th>purpose_5</th>\n",
       "      <td>0.016841</td>\n",
       "    </tr>\n",
       "    <tr>\n",
       "      <th>num_bc_tl</th>\n",
       "      <td>0.016642</td>\n",
       "    </tr>\n",
       "    <tr>\n",
       "      <th>purpose_8</th>\n",
       "      <td>0.015820</td>\n",
       "    </tr>\n",
       "    <tr>\n",
       "      <th>purpose_6</th>\n",
       "      <td>0.013952</td>\n",
       "    </tr>\n",
       "    <tr>\n",
       "      <th>num_il_tl</th>\n",
       "      <td>0.013502</td>\n",
       "    </tr>\n",
       "    <tr>\n",
       "      <th>pub_rec</th>\n",
       "      <td>0.012971</td>\n",
       "    </tr>\n",
       "    <tr>\n",
       "      <th>max_bal_bc</th>\n",
       "      <td>0.012859</td>\n",
       "    </tr>\n",
       "    <tr>\n",
       "      <th>mort_acc</th>\n",
       "      <td>0.011638</td>\n",
       "    </tr>\n",
       "    <tr>\n",
       "      <th>open_acc_6m</th>\n",
       "      <td>0.011175</td>\n",
       "    </tr>\n",
       "    <tr>\n",
       "      <th>purpose_4</th>\n",
       "      <td>0.010950</td>\n",
       "    </tr>\n",
       "    <tr>\n",
       "      <th>num_actv_bc_tl</th>\n",
       "      <td>0.007386</td>\n",
       "    </tr>\n",
       "    <tr>\n",
       "      <th>annual_inc</th>\n",
       "      <td>0.007289</td>\n",
       "    </tr>\n",
       "    <tr>\n",
       "      <th>purpose_10</th>\n",
       "      <td>0.006518</td>\n",
       "    </tr>\n",
       "    <tr>\n",
       "      <th>purpose_11</th>\n",
       "      <td>0.005574</td>\n",
       "    </tr>\n",
       "    <tr>\n",
       "      <th>home_ownership_1</th>\n",
       "      <td>0.001232</td>\n",
       "    </tr>\n",
       "  </tbody>\n",
       "</table>\n",
       "</div>"
      ],
      "text/plain": [
       "                         Beta_i\n",
       "total_rec_int          1.777085\n",
       "installment            1.149222\n",
       "issue_d_2              0.813457\n",
       "grade                  0.774591\n",
       "total_rec_prncp        0.756365\n",
       "issue_d_1              0.709822\n",
       "term                   0.176507\n",
       "purpose_2              0.149325\n",
       "purpose_1              0.148511\n",
       "total_bc_limit         0.126516\n",
       "open_il_24m            0.109350\n",
       "purpose_3              0.106394\n",
       "application_type_1     0.105478\n",
       "open_rv_12m            0.100057\n",
       "pub_rec_bankruptcies   0.098704\n",
       "inq_last_6mths         0.097928\n",
       "total_acc              0.097680\n",
       "verification_status_2  0.086988\n",
       "tot_cur_bal            0.083478\n",
       "delinq_2yrs            0.082213\n",
       "verification_status_1  0.074658\n",
       "total_cu_tl            0.073270\n",
       "inq_fi                 0.054330\n",
       "open_rv_24m            0.047288\n",
       "home_ownership_2       0.046669\n",
       "purpose_7              0.044565\n",
       "inq_last_12m           0.044101\n",
       "total_bal_il           0.042120\n",
       "open_il_12m            0.041928\n",
       "purpose_9              0.040637\n",
       "num_accts_ever_120_pd  0.036518\n",
       "open_act_il            0.031587\n",
       "revol_bal              0.031275\n",
       "earliest_cr_line       0.024469\n",
       "mo_sin_rcnt_tl         0.022123\n",
       "mo_sin_rcnt_rev_tl_op  0.021769\n",
       "initial_list_status_1  0.019493\n",
       "purpose_5              0.016841\n",
       "num_bc_tl              0.016642\n",
       "purpose_8              0.015820\n",
       "purpose_6              0.013952\n",
       "num_il_tl              0.013502\n",
       "pub_rec                0.012971\n",
       "max_bal_bc             0.012859\n",
       "mort_acc               0.011638\n",
       "open_acc_6m            0.011175\n",
       "purpose_4              0.010950\n",
       "num_actv_bc_tl         0.007386\n",
       "annual_inc             0.007289\n",
       "purpose_10             0.006518\n",
       "purpose_11             0.005574\n",
       "home_ownership_1       0.001232"
      ]
     },
     "execution_count": 26,
     "metadata": {},
     "output_type": "execute_result"
    }
   ],
   "source": [
    "betas = pd.DataFrame(np.transpose(ridge.coef_), columns = ['Beta_i'], index=x.columns)\n",
    "betas = betas.abs().sort_values('Beta_i',ascending= False)\n",
    "top = betas[0:30]\n",
    "betas"
   ]
  },
  {
   "cell_type": "code",
   "execution_count": 27,
   "metadata": {},
   "outputs": [
    {
     "name": "stdout",
     "output_type": "stream",
     "text": [
      "      0    1\n",
      "0  7861  126\n",
      "1  1086  327\n",
      "Sensitive 0.2314\n",
      "Specificity 0.9842\n"
     ]
    }
   ],
   "source": [
    "# the count of true negatives is C_{0,0}, \n",
    "# false negatives is C_{1,0}, \n",
    "#true positives is C_{1,1} and \n",
    "#false positives is C_{0,1}.\n",
    "pred = pd.DataFrame(ridge.predict(x_scale))\n",
    "m4_conf=pd.DataFrame(confusion_matrix(y,pred))\n",
    "print(m4_conf)\n",
    "print('Sensitive',round(m4_conf.iloc[1,1]/(m4_conf.iloc[1,0]+m4_conf.iloc[1,1]),4) )\n",
    "print(\"Specificity\",round(m4_conf.iloc[0,0]/(m4_conf.iloc[0,1]+m4_conf.iloc[0,0]),4))"
   ]
  },
  {
   "cell_type": "code",
   "execution_count": 28,
   "metadata": {
    "collapsed": true
   },
   "outputs": [],
   "source": [
    "top_ind = ['total_rec_int', 'installment', 'issue_d_1', 'issue_d_2', 'grade',\n",
    "           'total_rec_prncp','term','total_bc_limit','open_il_24m','application_type_1',\n",
    "           'purpose_1', 'purpose_2', 'purpose_3', 'purpose_4', 'purpose_5', 'purpose_6',\n",
    "           'purpose_7', 'purpose_8', 'purpose_9', 'purpose_10','purpose_11'] "
   ]
  },
  {
   "cell_type": "markdown",
   "metadata": {},
   "source": [
    "## New data frame with only the top 10 variables"
   ]
  },
  {
   "cell_type": "code",
   "execution_count": 29,
   "metadata": {
    "collapsed": true
   },
   "outputs": [],
   "source": [
    "reduced_x = x_scale[top_ind]\n",
    "reduced_x_test = test_x_scale[top_ind]"
   ]
  },
  {
   "cell_type": "code",
   "execution_count": 30,
   "metadata": {},
   "outputs": [
    {
     "data": {
      "text/plain": [
       "LogisticRegression(C=0.14174741629268062, class_weight=None, dual=False,\n",
       "          fit_intercept=True, intercept_scaling=1, max_iter=100,\n",
       "          multi_class='ovr', n_jobs=1, penalty='l2', random_state=None,\n",
       "          solver='liblinear', tol=0.0001, verbose=0, warm_start=False)"
      ]
     },
     "execution_count": 30,
     "metadata": {},
     "output_type": "execute_result"
    }
   ],
   "source": [
    "ridge_red = linear_model.LogisticRegression(penalty='l2', C=c[0])\n",
    "ridge_red.fit(reduced_x, y)"
   ]
  },
  {
   "cell_type": "code",
   "execution_count": 31,
   "metadata": {},
   "outputs": [
    {
     "data": {
      "text/plain": [
       "0.8713829787234042"
      ]
     },
     "execution_count": 31,
     "metadata": {},
     "output_type": "execute_result"
    }
   ],
   "source": [
    "ridge_red.score(reduced_x, y)"
   ]
  },
  {
   "cell_type": "code",
   "execution_count": 32,
   "metadata": {},
   "outputs": [
    {
     "name": "stdout",
     "output_type": "stream",
     "text": [
      "      0    1\n",
      "0  7876  111\n",
      "1  1098  315\n",
      "Sensitive 0.2229\n",
      "Specificity 0.9861\n"
     ]
    }
   ],
   "source": [
    "pred_red = pd.DataFrame(ridge_red.predict(reduced_x))\n",
    "m5_conf=pd.DataFrame(confusion_matrix(y,pred_red))\n",
    "print(m5_conf)\n",
    "print('Sensitive',round(m5_conf.iloc[1,1]/(m5_conf.iloc[1,0]+m5_conf.iloc[1,1]),4) )\n",
    "print(\"Specificity\",round(m5_conf.iloc[0,0]/(m5_conf.iloc[0,1]+m5_conf.iloc[0,0]),4))"
   ]
  },
  {
   "cell_type": "markdown",
   "metadata": {},
   "source": [
    "# Q10 Using SMOTE\n",
    "\n",
    "Using the set of variables from the Ridge-Model, SMOTE is performed for the Ridge-Reduce-Model\n"
   ]
  },
  {
   "cell_type": "code",
   "execution_count": 33,
   "metadata": {
    "collapsed": true,
    "scrolled": true
   },
   "outputs": [],
   "source": [
    "sm = SMOTE(random_state=42)\n",
    "kf = KFold(n_splits=10,shuffle=True)\n",
    "#list of 10-fold data set\n",
    "ks=[]\n",
    "for i in kf.split(X=reduced_x,y=y):\n",
    "    ks.append(i)\n",
    "#list of 10-fold-SMOTE data set\n",
    "xs_smote=[]    \n",
    "ys_smote=[]\n",
    "#ks[i][0],the training set of the i fold\n",
    "#ks[i][1],the test set of the i fold\n",
    "for i in range(10):\n",
    "    x_smote,y_smote=sm.fit_sample(x.iloc[ks[i][0],],y.iloc[ks[i][0],])\n",
    "    xs_smote.append(x_smote)\n",
    "    ys_smote.append(y_smote)"
   ]
  },
  {
   "cell_type": "markdown",
   "metadata": {},
   "source": [
    "## SMOTE Decision Tree"
   ]
  },
  {
   "cell_type": "code",
   "execution_count": 34,
   "metadata": {
    "scrolled": true
   },
   "outputs": [
    {
     "name": "stdout",
     "output_type": "stream",
     "text": [
      "      0    1\n",
      "0  7211  776\n",
      "1   656  757\n",
      "fail_precision 0.5357\n",
      "accuracy 0.8477\n"
     ]
    }
   ],
   "source": [
    "m2_smote_conf=pd.DataFrame([[0,0],[0,0]])\n",
    "#sum the confusion matrix for all 10 folds\n",
    "for i in range(10):\n",
    "    m2_smote = tree.DecisionTreeClassifier()\n",
    "    m2_smote.fit(xs_smote[i],ys_smote[i])\n",
    "    pred =(m2_smote.predict(x.iloc[ks[i][1]]))\n",
    "    m2_smote_conf += pd.DataFrame(confusion_matrix(y.iloc[ks[i][1],],pred))\n",
    "print(m2_smote_conf)\n",
    "print(\"fail_precision\",round(m2_smote_conf.iloc[1,1]/(m2_smote_conf.iloc[1,0]+m2_smote_conf.iloc[1,1]),4))\n",
    "print(\"accuracy\",round((m2_smote_conf.iloc[1,1]+m2_smote_conf.iloc[0,0])/m2_smote_conf.sum().sum(),4))"
   ]
  },
  {
   "cell_type": "markdown",
   "metadata": {},
   "source": [
    "After SMOTE, the accuracy decreases from 0.869 to 0.847 but the fail_precision increases from 0.549 to 0.535"
   ]
  },
  {
   "cell_type": "markdown",
   "metadata": {},
   "source": [
    "## SMOTE 5-NN"
   ]
  },
  {
   "cell_type": "code",
   "execution_count": 35,
   "metadata": {},
   "outputs": [
    {
     "name": "stdout",
     "output_type": "stream",
     "text": [
      "      0     1\n",
      "0  4924  3063\n",
      "1   854   559\n",
      "fail_precision 0.3956\n",
      "accuracy 0.5833\n"
     ]
    }
   ],
   "source": [
    "m3_smote_conf=pd.DataFrame([[0,0],[0,0]])\n",
    "#sum the confusion matrix for all 10 folds\n",
    "for i in range(10):\n",
    "    m3_smote = KNeighborsClassifier(5)\n",
    "    m3_smote.fit(xs_smote[i],ys_smote[i])\n",
    "    pred =(m3_smote.predict(x.iloc[ks[i][1]]))\n",
    "    m3_smote_conf += pd.DataFrame(confusion_matrix(y.iloc[ks[i][1],],pred))\n",
    "print(m3_smote_conf)\n",
    "print(\"fail_precision\",round(m3_smote_conf.iloc[1,1]/(m3_smote_conf.iloc[1,0]+m3_smote_conf.iloc[1,1]),4))\n",
    "print(\"accuracy\",round((m3_smote_conf.iloc[1,1]+m3_smote_conf.iloc[0,0])/m3_smote_conf.sum().sum(),4))"
   ]
  },
  {
   "cell_type": "markdown",
   "metadata": {},
   "source": [
    "After SMOTE, the accuracy decreases from 0.871 to 0.582 but fail presicion increases from 0.176 to 0.398"
   ]
  },
  {
   "cell_type": "markdown",
   "metadata": {},
   "source": [
    "# SMOTE Ridge"
   ]
  },
  {
   "cell_type": "code",
   "execution_count": 36,
   "metadata": {},
   "outputs": [
    {
     "name": "stdout",
     "output_type": "stream",
     "text": [
      "      0     1\n",
      "0  6227  1760\n",
      "1   389  1024\n",
      "fail_precision 0.7247\n",
      "accuracy 0.7714\n"
     ]
    }
   ],
   "source": [
    "m4_smote_conf=pd.DataFrame([[0,0],[0,0]])\n",
    "#sum the confusion matrix for all 10 folds\n",
    "for i in range(10):\n",
    "    m4_smote = linear_model.LogisticRegression(penalty='l2', C=c[0])\n",
    "    m4_smote.fit(xs_smote[i],ys_smote[i])\n",
    "    pred =(m4_smote.predict(x.iloc[ks[i][1]]))\n",
    "    m4_smote_conf += pd.DataFrame(confusion_matrix(y.iloc[ks[i][1],],pred))\n",
    "print(m4_smote_conf)\n",
    "print(\"fail_precision\",round(m4_smote_conf.iloc[1,1]/(m4_smote_conf.iloc[1,0]+m4_smote_conf.iloc[1,1]),4))\n",
    "print(\"accuracy\",round((m4_smote_conf.iloc[1,1]+m4_smote_conf.iloc[0,0])/m4_smote_conf.sum().sum(),4))"
   ]
  },
  {
   "cell_type": "markdown",
   "metadata": {},
   "source": [
    "After SMOTE, the accuracy decreases from 0.8709574 to 0.7687 but fail presicion increases from 0.228 to 0.7696"
   ]
  },
  {
   "cell_type": "markdown",
   "metadata": {},
   "source": [
    "# SMOTE Logistic Regression"
   ]
  },
  {
   "cell_type": "code",
   "execution_count": 79,
   "metadata": {},
   "outputs": [
    {
     "name": "stdout",
     "output_type": "stream",
     "text": [
      "      0     1\n",
      "0  6222  1765\n",
      "1   401  1012\n",
      "fail_precision 0.7247\n",
      "accuracy 0.7698\n"
     ]
    }
   ],
   "source": [
    "m5_smote_conf=pd.DataFrame([[0,0],[0,0]])\n",
    "#sum the confusion matrix for all 10 folds\n",
    "for i in range(10):\n",
    "    m5_smote = linear_model.LogisticRegression()\n",
    "    m5_smote.fit(xs_smote[i],ys_smote[i])\n",
    "    pred =(m5_smote.predict(x.iloc[ks[i][1]]))\n",
    "    m5_smote_conf += pd.DataFrame(confusion_matrix(y.iloc[ks[i][1],],pred))\n",
    "print(m4_smote_conf)\n",
    "print(\"fail_precision\",round(m5_smote_conf.iloc[1,1]/(m5_smote_conf.iloc[1,0]+m5_smote_conf.iloc[1,1]),4))\n",
    "print(\"accuracy\",round((m5_smote_conf.iloc[1,1]+m5_smote_conf.iloc[0,0])/m5_smote_conf.sum().sum(),4))"
   ]
  },
  {
   "cell_type": "code",
   "execution_count": 118,
   "metadata": {},
   "outputs": [
    {
     "data": {
      "text/plain": [
       "234.34782608695653"
      ]
     },
     "execution_count": 118,
     "metadata": {},
     "output_type": "execute_result"
    }
   ],
   "source": [
    "(((0.769-0.23)/0.23))*100"
   ]
  },
  {
   "cell_type": "markdown",
   "metadata": {},
   "source": [
    "After SMOTE, the accuracy decreases from to 0.769 but fail presicion increases from 0.23 to 0.769"
   ]
  },
  {
   "cell_type": "markdown",
   "metadata": {},
   "source": [
    "# Performance on test set"
   ]
  },
  {
   "cell_type": "markdown",
   "metadata": {},
   "source": [
    "## QDA & Logistic Regression"
   ]
  },
  {
   "cell_type": "markdown",
   "metadata": {},
   "source": [
    "### QDA on full model - 40 variables"
   ]
  },
  {
   "cell_type": "code",
   "execution_count": 80,
   "metadata": {},
   "outputs": [
    {
     "name": "stdout",
     "output_type": "stream",
     "text": [
      "      0    1\n",
      "0  1812  201\n",
      "1   246   91\n",
      "Accuracy 0.8098\n",
      "Sensitive 0.27\n",
      "Specificity 0.9001\n"
     ]
    }
   ],
   "source": [
    "m1_pred = m1.predict(test_x_scale)\n",
    "m1_conf=pd.DataFrame(confusion_matrix(test_y,m1_pred))\n",
    "print(m1_conf)\n",
    "print('Accuracy', round(m1.score(test_x_scale, test_y),4))\n",
    "print('Sensitive',round(m1_conf.iloc[1,1]/(m1_conf.iloc[1,0]+m1_conf.iloc[1,1]),4) )\n",
    "print(\"Specificity\",round(m1_conf.iloc[0,0]/(m1_conf.iloc[0,1]+m1_conf.iloc[0,0]),4))"
   ]
  },
  {
   "cell_type": "markdown",
   "metadata": {},
   "source": [
    "### Lin Reg on Reduced Model - Intuition "
   ]
  },
  {
   "cell_type": "code",
   "execution_count": 81,
   "metadata": {},
   "outputs": [
    {
     "name": "stdout",
     "output_type": "stream",
     "text": [
      "      0  1\n",
      "0  2008  5\n",
      "1   333  4\n",
      "Accuracy 0.8562\n",
      "Sensitive 0.0119\n",
      "Specificity 0.9975\n"
     ]
    }
   ],
   "source": [
    "m1_pred2 = m1_linreg.predict(x_test_intu)\n",
    "m1_conf=pd.DataFrame(confusion_matrix(test_y,m1_pred2))\n",
    "print(m1_conf)\n",
    "print('Accuracy', round(m1_linreg.score(x_test_intu, test_y),4))\n",
    "print('Sensitive',round(m1_conf.iloc[1,1]/(m1_conf.iloc[1,0]+m1_conf.iloc[1,1]),4) )\n",
    "print(\"Specificity\",round(m1_conf.iloc[0,0]/(m1_conf.iloc[0,1]+m1_conf.iloc[0,0]),4))"
   ]
  },
  {
   "cell_type": "markdown",
   "metadata": {},
   "source": [
    "## Decision Tree"
   ]
  },
  {
   "cell_type": "markdown",
   "metadata": {},
   "source": [
    "### Full model - 40 variables"
   ]
  },
  {
   "cell_type": "code",
   "execution_count": 82,
   "metadata": {},
   "outputs": [
    {
     "name": "stdout",
     "output_type": "stream",
     "text": [
      "      0    1\n",
      "0  1843  170\n",
      "1   156  181\n",
      "Accuracy 0.8613\n",
      "Sensitive 0.5371\n",
      "Specificity 0.9155\n"
     ]
    }
   ],
   "source": [
    "#m2.score(test_x_scale, test_y)\n",
    "\n",
    "m2_pred = m2.predict(test_x_scale)\n",
    "m2_conf=pd.DataFrame(confusion_matrix(test_y,m2_pred))\n",
    "print(m2_conf)\n",
    "print('Accuracy', round(m2.score(test_x_scale, test_y),4))\n",
    "print('Sensitive',round(m2_conf.iloc[1,1]/(m2_conf.iloc[1,0]+m2_conf.iloc[1,1]),4) )\n",
    "print(\"Specificity\",round(m2_conf.iloc[0,0]/(m2_conf.iloc[0,1]+m2_conf.iloc[0,0]),4))"
   ]
  },
  {
   "cell_type": "markdown",
   "metadata": {},
   "source": [
    "### Reduced - intuition"
   ]
  },
  {
   "cell_type": "code",
   "execution_count": 83,
   "metadata": {},
   "outputs": [
    {
     "name": "stdout",
     "output_type": "stream",
     "text": [
      "      0    1\n",
      "0  1692  321\n",
      "1   282   55\n",
      "Accuracy 0.7434\n",
      "Sensitive 0.1632\n",
      "Specificity 0.8405\n"
     ]
    }
   ],
   "source": [
    "m2_pred = m2_redTree.predict(x_test_intu)\n",
    "m2_conf=pd.DataFrame(confusion_matrix(test_y,m2_pred))\n",
    "print(m2_conf)\n",
    "print('Accuracy', round(m2_redTree.score(x_test_intu, test_y),4))\n",
    "print('Sensitive',round(m2_conf.iloc[1,1]/(m2_conf.iloc[1,0]+m2_conf.iloc[1,1]),4) )\n",
    "print(\"Specificity\",round(m2_conf.iloc[0,0]/(m2_conf.iloc[0,1]+m2_conf.iloc[0,0]),4))"
   ]
  },
  {
   "cell_type": "markdown",
   "metadata": {},
   "source": [
    "### With Ridge Reduce variables"
   ]
  },
  {
   "cell_type": "code",
   "execution_count": 90,
   "metadata": {},
   "outputs": [
    {
     "name": "stdout",
     "output_type": "stream",
     "text": [
      "      0    1\n",
      "0  1843  170\n",
      "1   140  197\n",
      "Accuracy 0.8681\n",
      "Sensitive 0.5846\n",
      "Specificity 0.9155\n"
     ]
    }
   ],
   "source": [
    "m2_redTree2 = tree.DecisionTreeClassifier()\n",
    "m2_redTree2.fit(reduced_x,y)\n",
    "\n",
    "m2_pred = m2_redTree2.predict(reduced_x_test)\n",
    "m2_conf=pd.DataFrame(confusion_matrix(test_y,m2_pred))\n",
    "print(m2_conf)\n",
    "print('Accuracy', round(m2_redTree2.score(reduced_x_test, test_y),4))\n",
    "print('Sensitive',round(m2_conf.iloc[1,1]/(m2_conf.iloc[1,0]+m2_conf.iloc[1,1]),4) )\n",
    "print(\"Specificity\",round(m2_conf.iloc[0,0]/(m2_conf.iloc[0,1]+m2_conf.iloc[0,0]),4))"
   ]
  },
  {
   "cell_type": "markdown",
   "metadata": {},
   "source": [
    "## Ridge\n",
    "\n",
    "### Full model - 40 variables"
   ]
  },
  {
   "cell_type": "code",
   "execution_count": 93,
   "metadata": {},
   "outputs": [
    {
     "name": "stdout",
     "output_type": "stream",
     "text": [
      "      0   1\n",
      "0  1978  35\n",
      "1   261  76\n",
      "Accuracy 0.874\n",
      "Sensitive 0.2255\n",
      "Specificity 0.9826\n"
     ]
    }
   ],
   "source": [
    "pred = pd.DataFrame(ridge.predict(test_x_scale))\n",
    "m4_conf=pd.DataFrame(confusion_matrix(test_y,pred))\n",
    "print(m4_conf)\n",
    "print('Accuracy', round(ridge.score(test_x_scale, test_y),4))\n",
    "print('Sensitive',round(m4_conf.iloc[1,1]/(m4_conf.iloc[1,0]+m4_conf.iloc[1,1]),4) )\n",
    "print(\"Specificity\",round(m4_conf.iloc[0,0]/(m4_conf.iloc[0,1]+m4_conf.iloc[0,0]),4))"
   ]
  },
  {
   "cell_type": "markdown",
   "metadata": {},
   "source": [
    "### Ridge-reduced variables (10)"
   ]
  },
  {
   "cell_type": "code",
   "execution_count": 94,
   "metadata": {},
   "outputs": [
    {
     "name": "stdout",
     "output_type": "stream",
     "text": [
      "      0   1\n",
      "0  1979  34\n",
      "1   261  76\n",
      "Accuracy 0.8745\n",
      "Sensitive 0.2255\n",
      "Specificity 0.9831\n"
     ]
    }
   ],
   "source": [
    "#ridge_red.score(reduced_x_test, test_y)\n",
    "ridge_red_pred = ridge_red.predict(reduced_x_test)\n",
    "ridge_red_conf=pd.DataFrame(confusion_matrix(test_y,ridge_red_pred))\n",
    "print(ridge_red_conf)\n",
    "print('Accuracy', round(ridge_red.score(reduced_x_test, test_y),4))\n",
    "print('Sensitive',round(ridge_red_conf.iloc[1,1]/(ridge_red_conf.iloc[1,0]+ridge_red_conf.iloc[1,1]),4) )\n",
    "print(\"Specificity\",round(ridge_red_conf.iloc[0,0]/(ridge_red_conf.iloc[0,1]+ridge_red_conf.iloc[0,0]),4))"
   ]
  },
  {
   "cell_type": "markdown",
   "metadata": {},
   "source": [
    "## 5-NN\n",
    "\n",
    "### Full model"
   ]
  },
  {
   "cell_type": "code",
   "execution_count": 560,
   "metadata": {},
   "outputs": [
    {
     "name": "stdout",
     "output_type": "stream",
     "text": [
      "      0   1\n",
      "0  1978  35\n",
      "1   318  19\n",
      "Accuracy 0.8498\n",
      "Sensitive 0.0564\n",
      "Specificity 0.9826\n"
     ]
    }
   ],
   "source": [
    "#m3.score(test_x_scale, test_y)\n",
    "\n",
    "m3_pred = m3.predict(test_x_scale)\n",
    "m3_conf=pd.DataFrame(confusion_matrix(test_y,m3_pred))\n",
    "print(m3_conf)\n",
    "print('Accuracy', round(m3.score(test_x_scale, test_y),4))\n",
    "print('Sensitive',round(m3_conf.iloc[1,1]/(m3_conf.iloc[1,0]+m3_conf.iloc[1,1]),4) )\n",
    "print(\"Specificity\",round(m3_conf.iloc[0,0]/(m3_conf.iloc[0,1]+m3_conf.iloc[0,0]),4))"
   ]
  }
 ],
 "metadata": {
  "kernelspec": {
   "display_name": "Python 3",
   "language": "python",
   "name": "python3"
  },
  "language_info": {
   "codemirror_mode": {
    "name": "ipython",
    "version": 3
   },
   "file_extension": ".py",
   "mimetype": "text/x-python",
   "name": "python",
   "nbconvert_exporter": "python",
   "pygments_lexer": "ipython3",
   "version": "3.6.3"
  }
 },
 "nbformat": 4,
 "nbformat_minor": 2
}
